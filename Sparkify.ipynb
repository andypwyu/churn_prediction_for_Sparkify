{
 "cells": [
  {
   "cell_type": "markdown",
   "metadata": {},
   "source": [
    "# Sparkify Project\n",
    "\n",
    "In this workspace I use a mini subset (98MB) of the full dataset (12GB) to explore data with Spark and build the model before deploying a cluster processing the full dataset on the cloud."
   ]
  },
  {
   "cell_type": "code",
   "execution_count": 1,
   "metadata": {},
   "outputs": [],
   "source": [
    "# import libraries\n",
    "from pyspark.sql import SparkSession, Window\n",
    "from pyspark.sql.types import StringType, IntegerType\n",
    "from pyspark.sql.functions import avg, explode, concat, lit, min, max, split, udf, isnull, col, desc\n",
    "\n",
    "import matplotlib.pyplot as plt\n",
    "import pandas as pd\n",
    "import seaborn as sns\n",
    "from datetime import datetime\n",
    "from time import time\n",
    "import numpy as np\n",
    "\n",
    "from pyspark.ml.feature import StandardScaler, VectorAssembler\n",
    "from pyspark.ml.evaluation import MulticlassClassificationEvaluator\n",
    "from pyspark.ml.classification import GBTClassifier, RandomForestClassifier, LinearSVC\n",
    "from pyspark.ml.tuning import CrossValidator, ParamGridBuilder"
   ]
  },
  {
   "cell_type": "code",
   "execution_count": 2,
   "metadata": {},
   "outputs": [],
   "source": [
    "# create a Spark session\n",
    "spark = SparkSession \\\n",
    "        .builder \\\n",
    "        .appName(\"mysparkify\") \\\n",
    "        .getOrCreate()"
   ]
  },
  {
   "cell_type": "markdown",
   "metadata": {},
   "source": [
    "# Load and Clean Dataset\n",
    "In this workspace, the mini-dataset file is `mini_sparkify_event_data.json`. Load and clean the dataset, checking for invalid or missing data - for example, records without userids or sessionids. "
   ]
  },
  {
   "cell_type": "code",
   "execution_count": 3,
   "metadata": {},
   "outputs": [
    {
     "name": "stdout",
     "output_type": "stream",
     "text": [
      "root\n",
      " |-- artist: string (nullable = true)\n",
      " |-- auth: string (nullable = true)\n",
      " |-- firstName: string (nullable = true)\n",
      " |-- gender: string (nullable = true)\n",
      " |-- itemInSession: long (nullable = true)\n",
      " |-- lastName: string (nullable = true)\n",
      " |-- length: double (nullable = true)\n",
      " |-- level: string (nullable = true)\n",
      " |-- location: string (nullable = true)\n",
      " |-- method: string (nullable = true)\n",
      " |-- page: string (nullable = true)\n",
      " |-- registration: long (nullable = true)\n",
      " |-- sessionId: long (nullable = true)\n",
      " |-- song: string (nullable = true)\n",
      " |-- status: long (nullable = true)\n",
      " |-- ts: long (nullable = true)\n",
      " |-- userAgent: string (nullable = true)\n",
      " |-- userId: string (nullable = true)\n",
      "\n"
     ]
    }
   ],
   "source": [
    "data_path = 'data/mini_sparkify_event_data.json'\n",
    "df = spark.read.json(data_path)\n",
    "\n",
    "# See the frame schema\n",
    "df.printSchema()"
   ]
  },
  {
   "cell_type": "code",
   "execution_count": 4,
   "metadata": {},
   "outputs": [
    {
     "data": {
      "text/plain": [
       "[Row(artist='Martha Tilston', auth='Logged In', firstName='Colin', gender='M', itemInSession=50, lastName='Freeman', length=277.89016, level='paid', location='Bakersfield, CA', method='PUT', page='NextSong', registration=1538173362000, sessionId=29, song='Rockpools', status=200, ts=1538352117000, userAgent='Mozilla/5.0 (Windows NT 6.1; WOW64; rv:31.0) Gecko/20100101 Firefox/31.0', userId='30')]"
      ]
     },
     "execution_count": 4,
     "metadata": {},
     "output_type": "execute_result"
    }
   ],
   "source": [
    "df.head(1)"
   ]
  },
  {
   "cell_type": "code",
   "execution_count": 5,
   "metadata": {},
   "outputs": [],
   "source": [
    "# Drop missing userId and sessionId\n",
    "df = df.dropna(how = 'any', subset = ['userId','sessionId'])\n",
    "df = df[df.userId != \"\"]"
   ]
  },
  {
   "cell_type": "code",
   "execution_count": 6,
   "metadata": {},
   "outputs": [
    {
     "name": "stdout",
     "output_type": "stream",
     "text": [
      "The number of rows in the dataframe is 213745\n",
      "The number of columns in the dataframe is 18\n"
     ]
    }
   ],
   "source": [
    "print(\"The number of rows in the dataframe is {}\".format(df.count()))\n",
    "print(\"The number of columns in the dataframe is {}\".format(len(df.columns)))"
   ]
  },
  {
   "cell_type": "markdown",
   "metadata": {},
   "source": [
    "# Exploratory Data Analysis\n",
    "When you're working with the full dataset, perform EDA by loading a small subset of the data and doing basic manipulations within Spark. In this workspace, you are already provided a small subset of data you can explore."
   ]
  },
  {
   "cell_type": "code",
   "execution_count": 7,
   "metadata": {},
   "outputs": [
    {
     "data": {
      "text/plain": [
       "175"
      ]
     },
     "execution_count": 7,
     "metadata": {},
     "output_type": "execute_result"
    }
   ],
   "source": [
    "# No of unique users in the data set\n",
    "df.select(\"userId\").dropDuplicates().count()"
   ]
  },
  {
   "cell_type": "code",
   "execution_count": 8,
   "metadata": {},
   "outputs": [
    {
     "data": {
      "text/plain": [
       "2235"
      ]
     },
     "execution_count": 8,
     "metadata": {},
     "output_type": "execute_result"
    }
   ],
   "source": [
    "# No of unique sessions the data iset\n",
    "df.select(\"sessionId\").dropDuplicates().count()"
   ]
  },
  {
   "cell_type": "code",
   "execution_count": 9,
   "metadata": {},
   "outputs": [
    {
     "name": "stdout",
     "output_type": "stream",
     "text": [
      "+--------------------+\n",
      "|                page|\n",
      "+--------------------+\n",
      "|              Cancel|\n",
      "|    Submit Downgrade|\n",
      "|         Thumbs Down|\n",
      "|                Home|\n",
      "|           Downgrade|\n",
      "|         Roll Advert|\n",
      "|              Logout|\n",
      "|       Save Settings|\n",
      "|Cancellation Conf...|\n",
      "|               About|\n",
      "|            Settings|\n",
      "|     Add to Playlist|\n",
      "|          Add Friend|\n",
      "|            NextSong|\n",
      "|           Thumbs Up|\n",
      "|                Help|\n",
      "|             Upgrade|\n",
      "|               Error|\n",
      "|      Submit Upgrade|\n",
      "+--------------------+\n",
      "\n"
     ]
    }
   ],
   "source": [
    "# User activities\n",
    "df.select('page').dropDuplicates().show()"
   ]
  },
  {
   "cell_type": "markdown",
   "metadata": {},
   "source": [
    "### Define Churn\n",
    "\n",
    "Once you've done some preliminary analysis, create a column `Churn` to use as the label for your model. I suggest using the `Cancellation Confirmation` events to define your churn, which happen for both paid and free users. As a bonus task, you can also look into the `Downgrade` events."
   ]
  },
  {
   "cell_type": "code",
   "execution_count": 10,
   "metadata": {},
   "outputs": [],
   "source": [
    "# add downgrade flag, 1 or 0\n",
    "is_downgrade = udf(lambda x: int(x==\"Submit Downgrade\"), IntegerType())\n",
    "df = df.withColumn(\"downgrade\", is_downgrade(\"page\"))\n",
    "\n",
    "# add downgrade user flag\n",
    "df = df.withColumn(\"user_downgrade\", max(\"downgrade\").over(Window.partitionBy(\"UserId\")))\n",
    "\n",
    "# add churn, 1 or 0\n",
    "is_churn = udf(lambda x: int(x==\"Cancellation Confirmation\"), IntegerType())\n",
    "df = df.withColumn(\"churn\", is_churn(\"page\"))\n",
    "\n",
    "# add churn user flag\n",
    "df = df.withColumn(\"user_churn\", max('churn').over(Window.partitionBy('UserId')))"
   ]
  },
  {
   "cell_type": "code",
   "execution_count": 11,
   "metadata": {},
   "outputs": [],
   "source": [
    "# Convert timestamp format\n",
    "convert_ts = udf(lambda x: datetime.fromtimestamp(x / 1000.0).strftime(\"%m-%d-%Y %H:%M:%S\"))\n",
    "df = df.withColumn('registration_datetime', convert_ts('registration'))\n",
    "df = df.withColumn('event_datetime', convert_ts('ts'))"
   ]
  },
  {
   "cell_type": "code",
   "execution_count": 12,
   "metadata": {},
   "outputs": [
    {
     "data": {
      "text/plain": [
       "[Row(artist='Sleeping With Sirens', auth='Logged In', firstName='Darianna', gender='F', itemInSession=0, lastName='Carpenter', length=202.97098, level='free', location='Bridgeport-Stamford-Norwalk, CT', method='PUT', page='NextSong', registration=1538016340000, sessionId=31, song='Captain Tyin Knots VS Mr Walkway (No Way)', status=200, ts=1539003534000, userAgent='\"Mozilla/5.0 (iPhone; CPU iPhone OS 7_1_2 like Mac OS X) AppleWebKit/537.51.2 (KHTML, like Gecko) Version/7.0 Mobile/11D257 Safari/9537.53\"', userId='100010', downgrade=0, user_downgrade=0, churn=0, user_churn=0, registration_datetime='09-27-2018 02:45:40', event_datetime='10-08-2018 12:58:54')]"
      ]
     },
     "execution_count": 12,
     "metadata": {},
     "output_type": "execute_result"
    }
   ],
   "source": [
    "df.head(1)"
   ]
  },
  {
   "cell_type": "code",
   "execution_count": 13,
   "metadata": {},
   "outputs": [
    {
     "name": "stdout",
     "output_type": "stream",
     "text": [
      "+------+---------+-----+---------------------+----------+--------------+\n",
      "|userId|firstName|level|registration_datetime|user_churn|user_downgrade|\n",
      "+------+---------+-----+---------------------+----------+--------------+\n",
      "|100010| Darianna| free|  09-27-2018 02:45:40|         0|             0|\n",
      "|   125|    Mason| free|  08-01-2018 20:58:59|         1|             0|\n",
      "|   124|   Nicole| paid|  07-22-2018 01:52:15|         0|             0|\n",
      "|    51|    Ethan| paid|  09-27-2018 20:43:07|         1|             0|\n",
      "|     7|   Maddox| free|  09-11-2018 12:06:16|         0|             0|\n",
      "|    15|    Panav| paid|  09-29-2018 16:37:25|         0|             0|\n",
      "|    54|    Alexi| paid|  07-25-2018 01:37:42|         1|             1|\n",
      "|   155|   Camila| free|  11-04-2018 22:27:50|         0|             0|\n",
      "|100014|  Rodrigo| paid|  08-27-2018 17:04:03|         0|             0|\n",
      "|   132|    Sadie| free|  09-15-2018 23:35:53|         0|             0|\n",
      "+------+---------+-----+---------------------+----------+--------------+\n",
      "only showing top 10 rows\n",
      "\n"
     ]
    }
   ],
   "source": [
    "df.select(['userId', 'firstName','level', 'registration_datetime' ,'user_churn', 'user_downgrade']).dropDuplicates(['userId']).show(10)\n",
    "      "
   ]
  },
  {
   "cell_type": "markdown",
   "metadata": {},
   "source": [
    "### Explore Data\n",
    "Once you've defined churn, perform some exploratory data analysis to observe the behavior for users who stayed vs users who churned. You can start by exploring aggregates on these two groups of users, observing how much of a specific action they experienced per a certain time unit or number of songs played."
   ]
  },
  {
   "cell_type": "markdown",
   "metadata": {},
   "source": [
    "#### Churn users by genders"
   ]
  },
  {
   "cell_type": "code",
   "execution_count": 14,
   "metadata": {},
   "outputs": [
    {
     "data": {
      "text/plain": [
       "<matplotlib.axes._subplots.AxesSubplot at 0x7fc8eff886a0>"
      ]
     },
     "execution_count": 14,
     "metadata": {},
     "output_type": "execute_result"
    },
    {
     "data": {
      "image/png": "[encoded data removed]",
      "text/plain": [
       "<matplotlib.figure.Figure at 0x7fc8eff88dd8>"
      ]
     },
     "metadata": {
      "needs_background": "light"
     },
     "output_type": "display_data"
    }
   ],
   "source": [
    "# Plotting a bar plot to show gender distribution between regular and churn users\n",
    "df_ch_pd = df.drop_duplicates(['userId', 'gender']).groupby(['user_churn', 'gender']).count().sort(\"user_churn\").toPandas()\n",
    "plt.title('Male users seems more likely to churn compared to female users.')\n",
    "sns.barplot(x = 'user_churn', y = 'count', data = df_ch_pd, hue = 'gender')"
   ]
  },
  {
   "cell_type": "markdown",
   "metadata": {},
   "source": [
    "#### Paid/Free customers churn"
   ]
  },
  {
   "cell_type": "code",
   "execution_count": 15,
   "metadata": {},
   "outputs": [
    {
     "data": {
      "text/plain": [
       "<matplotlib.axes._subplots.AxesSubplot at 0x7fc8efdefc50>"
      ]
     },
     "execution_count": 15,
     "metadata": {},
     "output_type": "execute_result"
    },
    {
     "data": {
      "image/png": "[encoded data removed]",
      "text/plain": [
       "<matplotlib.figure.Figure at 0x7fc8eff881d0>"
      ]
     },
     "metadata": {
      "needs_background": "light"
     },
     "output_type": "display_data"
    }
   ],
   "source": [
    "df_level_pd = df.filter('page == \"Cancellation Confirmation\"').groupby('level').count().toPandas()\n",
    "plt.title('Churn happens more in paid users.')\n",
    "sns.barplot(data = df_level_pd, x = 'level', y = 'count', color = sns.color_palette()[0])"
   ]
  },
  {
   "cell_type": "markdown",
   "metadata": {},
   "source": [
    "#### Number of songs played per session"
   ]
  },
  {
   "cell_type": "code",
   "execution_count": 16,
   "metadata": {},
   "outputs": [
    {
     "data": {
      "text/plain": [
       "<matplotlib.axes._subplots.AxesSubplot at 0x7fc8efd072b0>"
      ]
     },
     "execution_count": 16,
     "metadata": {},
     "output_type": "execute_result"
    },
    {
     "data": {
      "image/png": "[encoded data removed]",
      "text/plain": [
       "<matplotlib.figure.Figure at 0x7fc8efd77ef0>"
      ]
     },
     "metadata": {
      "needs_background": "light"
     },
     "output_type": "display_data"
    }
   ],
   "source": [
    "avg_songs_df = df.where('page == \"NextSong\"').groupby(['user_churn', 'userId', 'sessionId', 'gender']).count()\\\n",
    "    .groupby(['user_churn', 'userId', 'gender']).agg({'count': 'avg'})\\\n",
    "    .withColumnRenamed('avg(count)', 'avg_played_songs').toPandas()\n",
    "plt.title('Churn users clearly played fewer songs per session.')\n",
    "sns.violinplot('user_churn', y = 'avg_played_songs', hue = 'gender', data = avg_songs_df)"
   ]
  },
  {
   "cell_type": "markdown",
   "metadata": {},
   "source": [
    "#### Time since registration"
   ]
  },
  {
   "cell_type": "code",
   "execution_count": 17,
   "metadata": {},
   "outputs": [],
   "source": [
    "df_lt = df.select('userId','registration','ts','user_churn') \\\n",
    "    .withColumn('lifetime',(df.ts-df.registration)) \\\n",
    "    .groupBy('userId','user_churn') \\\n",
    "    .agg({'lifetime':'max'}) \\\n",
    "    .withColumnRenamed('max(lifetime)','lifetime') \\\n",
    "    .select('userId', 'user_churn', (col('lifetime')/1000/3600/24).alias('lifetime')) \\\n",
    "    .toPandas()"
   ]
  },
  {
   "cell_type": "code",
   "execution_count": 18,
   "metadata": {},
   "outputs": [
    {
     "data": {
      "text/plain": [
       "Text(0.5,1,'Churn users use the services in shorter period of time.')"
      ]
     },
     "execution_count": 18,
     "metadata": {},
     "output_type": "execute_result"
    },
    {
     "data": {
      "image/png": "[encoded data removed]",
      "text/plain": [
       "<matplotlib.figure.Figure at 0x7fc8efdc2dd8>"
      ]
     },
     "metadata": {
      "needs_background": "light"
     },
     "output_type": "display_data"
    }
   ],
   "source": [
    "sns.boxplot(data=df_lt, y='user_churn', x='lifetime', orient='h')\n",
    "plt.xlabel('Days since registration')\n",
    "plt.ylabel('user_churn')\n",
    "plt.title('Churn users use the services in shorter period of time.')"
   ]
  },
  {
   "cell_type": "markdown",
   "metadata": {},
   "source": [
    "#### How many friends "
   ]
  },
  {
   "cell_type": "code",
   "execution_count": 19,
   "metadata": {},
   "outputs": [],
   "source": [
    "df_friends = df.where('page == \"Add Friend\"').groupby(['user_churn', 'userId', 'gender']).count()\\\n",
    "    .groupby(['user_churn', 'userId', 'gender']).agg({'count': 'avg'})\\\n",
    "    .withColumnRenamed('avg(count)', 'avg_friends').toPandas()"
   ]
  },
  {
   "cell_type": "code",
   "execution_count": 20,
   "metadata": {},
   "outputs": [
    {
     "data": {
      "text/plain": [
       "<matplotlib.axes._subplots.AxesSubplot at 0x7fc8ed1c0a90>"
      ]
     },
     "execution_count": 20,
     "metadata": {},
     "output_type": "execute_result"
    },
    {
     "data": {
      "image/png": "[encoded data removed]",
      "text/plain": [
       "<matplotlib.figure.Figure at 0x7fc8ed2474a8>"
      ]
     },
     "metadata": {
      "needs_background": "light"
     },
     "output_type": "display_data"
    }
   ],
   "source": [
    "plt.title('Churn users seem have fewer friends in the services.')\n",
    "sns.violinplot('user_churn', y = 'avg_friends', hue = 'gender', data = df_friends)"
   ]
  },
  {
   "cell_type": "markdown",
   "metadata": {},
   "source": [
    "# Feature Engineering\n",
    "Once you've familiarized yourself with the data, build out the features you find promising to train your model on. Extract features based on the small subset of data contained here. Be sure to transfer over this work to the full dataset when you work on your Spark cluster."
   ]
  },
  {
   "cell_type": "markdown",
   "metadata": {},
   "source": [
    "### Create new features\n",
    "1. Total songs listened\n",
    "2. Number of thumbs up\n",
    "3. Number of thumbs up\n",
    "4. Total time since registration\n",
    "5. Average songs played per session\n",
    "6. Number of songs added to playlist\n",
    "7. Total number of friends\n",
    "8. Downgrade (categorical variables)\n",
    "\n",
    "### Setting target variable\n",
    "1. Churn"
   ]
  },
  {
   "cell_type": "code",
   "execution_count": 21,
   "metadata": {},
   "outputs": [
    {
     "name": "stdout",
     "output_type": "stream",
     "text": [
      "+------+--------------------+\n",
      "|userId|total_songs_listened|\n",
      "+------+--------------------+\n",
      "|100010|                 104|\n",
      "|   125|                  11|\n",
      "|    51|                2464|\n",
      "|   124|                4825|\n",
      "|     7|                 201|\n",
      "+------+--------------------+\n",
      "only showing top 5 rows\n",
      "\n"
     ]
    }
   ],
   "source": [
    "# Total songs listened\n",
    "total_songs_listened = df.select('userId', 'song').groupBy('userId').count().withColumnRenamed('count', 'total_songs_listened')\n",
    "total_songs_listened.show(5)"
   ]
  },
  {
   "cell_type": "code",
   "execution_count": 22,
   "metadata": {},
   "outputs": [
    {
     "name": "stdout",
     "output_type": "stream",
     "text": [
      "+------+-------------+\n",
      "|userId|num_thumbs_up|\n",
      "+------+-------------+\n",
      "|100010|            4|\n",
      "|    51|          100|\n",
      "|   124|          171|\n",
      "|     7|            7|\n",
      "|    54|          163|\n",
      "+------+-------------+\n",
      "only showing top 5 rows\n",
      "\n"
     ]
    }
   ],
   "source": [
    "# Number of thumbs up\n",
    "num_thumbs_up = df.select('userId', 'page').where(df.page == 'Thumbs Up').groupBy('userId').count().withColumnRenamed('count', 'num_thumbs_up')\n",
    "num_thumbs_up.show(5)"
   ]
  },
  {
   "cell_type": "code",
   "execution_count": 23,
   "metadata": {},
   "outputs": [
    {
     "name": "stdout",
     "output_type": "stream",
     "text": [
      "+------+---------------+\n",
      "|userId|num_thumbs_down|\n",
      "+------+---------------+\n",
      "|100010|              1|\n",
      "|    51|             21|\n",
      "|   124|             41|\n",
      "|     7|              1|\n",
      "|    15|             14|\n",
      "+------+---------------+\n",
      "only showing top 5 rows\n",
      "\n"
     ]
    }
   ],
   "source": [
    "# Number of thumbs up\n",
    "num_thumbs_down = df.select('userId', 'page').where(df.page == 'Thumbs Down').groupBy('userId').count().withColumnRenamed('count', 'num_thumbs_down')\n",
    "num_thumbs_down.show(5)"
   ]
  },
  {
   "cell_type": "code",
   "execution_count": 24,
   "metadata": {},
   "outputs": [
    {
     "name": "stdout",
     "output_type": "stream",
     "text": [
      "+------+------------------+\n",
      "|userId|    total_lifetime|\n",
      "+------+------------------+\n",
      "|100010|19.578518518518518|\n",
      "|   125| 71.31688657407408|\n",
      "|    51|19.455844907407407|\n",
      "|   124|131.55591435185184|\n",
      "|     7| 72.77818287037037|\n",
      "+------+------------------+\n",
      "only showing top 5 rows\n",
      "\n"
     ]
    }
   ],
   "source": [
    "# Total time since registration\n",
    "total_lifetime = df.select('userId', 'registration', 'ts').withColumn('total_lifetime', (df.ts - df.registration))\\\n",
    "    .groupBy('userId').agg({'total_lifetime' : 'max'})\\\n",
    "    .withColumnRenamed('max(total_lifetime)', 'total_lifetime')\\\n",
    "    .select('userId', (col('total_lifetime')/1000/3600/24).alias('total_lifetime'))\n",
    "total_lifetime.show(5)"
   ]
  },
  {
   "cell_type": "code",
   "execution_count": 25,
   "metadata": {},
   "outputs": [
    {
     "name": "stdout",
     "output_type": "stream",
     "text": [
      "+------+------------------+\n",
      "|userId|  avg_songs_played|\n",
      "+------+------------------+\n",
      "|100010|25.333333333333332|\n",
      "|   125|               8.0|\n",
      "|    51|             211.1|\n",
      "|   124|145.67857142857142|\n",
      "|     7|21.428571428571427|\n",
      "+------+------------------+\n",
      "only showing top 5 rows\n",
      "\n"
     ]
    }
   ],
   "source": [
    "# Average songs played per session\n",
    "avg_song_played = df.where('page == \"NextSong\"').groupby(['userId', 'sessionId']).count().groupby(['userId']).agg({'count':'avg'}).withColumnRenamed('avg(count)', 'avg_songs_played')\n",
    "avg_song_played.show(5)"
   ]
  },
  {
   "cell_type": "code",
   "execution_count": 26,
   "metadata": {},
   "outputs": [
    {
     "name": "stdout",
     "output_type": "stream",
     "text": [
      "+------+---------------+\n",
      "|userID|add_to_playlist|\n",
      "+------+---------------+\n",
      "|100010|              1|\n",
      "|    51|             52|\n",
      "|   124|            118|\n",
      "|     7|              5|\n",
      "|    15|             59|\n",
      "+------+---------------+\n",
      "only showing top 5 rows\n",
      "\n"
     ]
    }
   ],
   "source": [
    "# Number of songs added to playlist\n",
    "add_to_playlist = df.select('userID','page').where(df.page == 'Add to Playlist').groupBy('userID').count().withColumnRenamed('count', 'add_to_playlist')\n",
    "add_to_playlist.show(5)"
   ]
  },
  {
   "cell_type": "code",
   "execution_count": 27,
   "metadata": {},
   "outputs": [
    {
     "name": "stdout",
     "output_type": "stream",
     "text": [
      "+------+-------------+\n",
      "|userId|total_friends|\n",
      "+------+-------------+\n",
      "|100010|            1|\n",
      "|    51|           28|\n",
      "|   124|           74|\n",
      "|     7|            1|\n",
      "|    54|           33|\n",
      "|    15|           31|\n",
      "|   155|           11|\n",
      "|   132|           41|\n",
      "|   154|            3|\n",
      "|100014|            4|\n",
      "|   101|           29|\n",
      "|    11|            6|\n",
      "|   138|           41|\n",
      "|    29|           47|\n",
      "|    69|           12|\n",
      "|100021|            2|\n",
      "|    42|           52|\n",
      "|   112|            7|\n",
      "|    73|           11|\n",
      "|    87|           27|\n",
      "+------+-------------+\n",
      "only showing top 20 rows\n",
      "\n"
     ]
    }
   ],
   "source": [
    "# Total number of friends\n",
    "total_friends = df.select('userId', 'page').where(df.page == 'Add Friend').groupBy('userId').count().withColumnRenamed('count', 'total_friends')\n",
    "total_friends.show()"
   ]
  },
  {
   "cell_type": "code",
   "execution_count": 28,
   "metadata": {},
   "outputs": [
    {
     "name": "stdout",
     "output_type": "stream",
     "text": [
      "+------+--------------+\n",
      "|userId|user_downgrade|\n",
      "+------+--------------+\n",
      "|100010|             0|\n",
      "|   125|             0|\n",
      "|   124|             0|\n",
      "|    51|             0|\n",
      "|     7|             0|\n",
      "+------+--------------+\n",
      "only showing top 5 rows\n",
      "\n"
     ]
    }
   ],
   "source": [
    "# Label downgrade users\n",
    "downgrade = df.select('userId', 'user_downgrade').dropDuplicates().select('userId', col('user_downgrade').cast('int'))\n",
    "downgrade.show(5)"
   ]
  },
  {
   "cell_type": "code",
   "execution_count": 29,
   "metadata": {},
   "outputs": [
    {
     "name": "stdout",
     "output_type": "stream",
     "text": [
      "+------+----------+\n",
      "|userId|user_churn|\n",
      "+------+----------+\n",
      "|100010|         0|\n",
      "|   125|         1|\n",
      "|   124|         0|\n",
      "|    51|         1|\n",
      "|     7|         0|\n",
      "+------+----------+\n",
      "only showing top 5 rows\n",
      "\n"
     ]
    }
   ],
   "source": [
    "# churn label as target variable\n",
    "churn = df.select('userId', 'user_churn').dropDuplicates()\n",
    "churn.show(5)"
   ]
  },
  {
   "cell_type": "code",
   "execution_count": 30,
   "metadata": {},
   "outputs": [],
   "source": [
    "def features_merge(df1, df2):\n",
    "    \"\"\"  \n",
    "    INPUT: \n",
    "    df1 - dataframe to be merged\n",
    "    df2 - dataframe to be merged and remove its key\n",
    "    \n",
    "    OUTPUT: \n",
    "    df - merged dataframe\n",
    "    \n",
    "    Description: \n",
    "    This function is used to merge the feature using left join. \n",
    "    \"\"\"\n",
    "    \n",
    "    df2 = df2.withColumnRenamed(\"userId\", \"userId_dup\")\n",
    "    df = df1.join(df2, df1.userId == df2.userId_dup, \"left\").drop(\"userId_dup\")\n",
    "    return df"
   ]
  },
  {
   "cell_type": "code",
   "execution_count": 31,
   "metadata": {},
   "outputs": [],
   "source": [
    "features_list = [total_songs_listened, num_thumbs_up, num_thumbs_down, total_lifetime, avg_song_played, add_to_playlist, total_friends, downgrade]"
   ]
  },
  {
   "cell_type": "code",
   "execution_count": 32,
   "metadata": {},
   "outputs": [
    {
     "name": "stdout",
     "output_type": "stream",
     "text": [
      "+------+------+\n",
      "|userId|target|\n",
      "+------+------+\n",
      "|100010|     0|\n",
      "|   125|     1|\n",
      "|   124|     0|\n",
      "|    51|     1|\n",
      "|     7|     0|\n",
      "+------+------+\n",
      "only showing top 5 rows\n",
      "\n"
     ]
    }
   ],
   "source": [
    "# setting the churn label for the model\n",
    "target = df.select('userId', col('user_churn').alias('target')).dropDuplicates()\n",
    "target.show(5)"
   ]
  },
  {
   "cell_type": "code",
   "execution_count": 33,
   "metadata": {},
   "outputs": [],
   "source": [
    "df_final = target\n",
    "\n",
    "for feature in features_list:\n",
    "    df_final = features_merge(df_final, feature)"
   ]
  },
  {
   "cell_type": "code",
   "execution_count": 34,
   "metadata": {},
   "outputs": [
    {
     "data": {
      "text/plain": [
       "[Row(userId='10', target=0, total_songs_listened=795, num_thumbs_up=37, num_thumbs_down=4, total_lifetime=51.76265046296297, avg_songs_played=112.16666666666667, add_to_playlist=9, total_friends=12, user_downgrade=0),\n",
       " Row(userId='100', target=0, total_songs_listened=3214, num_thumbs_up=148, num_thumbs_down=27, total_lifetime=64.87377314814815, avg_songs_played=78.88235294117646, add_to_playlist=61, total_friends=49, user_downgrade=1),\n",
       " Row(userId='100001', target=1, total_songs_listened=187, num_thumbs_up=8, num_thumbs_down=2, total_lifetime=44.80021990740741, avg_songs_played=33.25, add_to_playlist=3, total_friends=2, user_downgrade=0),\n",
       " Row(userId='100002', target=0, total_songs_listened=5, num_thumbs_up=0, num_thumbs_down=0, total_lifetime=105.3844675925926, avg_songs_played=3.0, add_to_playlist=1, total_friends=0, user_downgrade=0),\n",
       " Row(userId='100003', target=1, total_songs_listened=78, num_thumbs_up=3, num_thumbs_down=0, total_lifetime=22.748113425925926, avg_songs_played=25.5, add_to_playlist=2, total_friends=0, user_downgrade=0)]"
      ]
     },
     "execution_count": 34,
     "metadata": {},
     "output_type": "execute_result"
    }
   ],
   "source": [
    "df_final = df_final.na.fill(0)\n",
    "df_final = df_final.orderBy('userId', ascending=True)\n",
    "df_final.head(5)"
   ]
  },
  {
   "cell_type": "markdown",
   "metadata": {},
   "source": [
    "# Modeling\n",
    "Split the full dataset into train, test, and validation sets. Test out several of the machine learning methods you learned. Evaluate the accuracy of the various models, tuning parameters as necessary. Determine your winning model based on test accuracy and report results on the validation set. Since the churned users are a fairly small subset, I suggest using F1 score as the metric to optimize."
   ]
  },
  {
   "cell_type": "markdown",
   "metadata": {},
   "source": [
    "### Vectorize all features"
   ]
  },
  {
   "cell_type": "code",
   "execution_count": 35,
   "metadata": {},
   "outputs": [],
   "source": [
    "features_vectorize = VectorAssembler(inputCols=df_final.columns[2:], outputCol='features_vector')\n",
    "df_final = features_vectorize.transform(df_final)"
   ]
  },
  {
   "cell_type": "code",
   "execution_count": 36,
   "metadata": {},
   "outputs": [
    {
     "data": {
      "text/plain": [
       "Row(userId='10', target=0, total_songs_listened=795, num_thumbs_up=37, num_thumbs_down=4, total_lifetime=51.76265046296297, avg_songs_played=112.16666666666667, add_to_playlist=9, total_friends=12, user_downgrade=0, features_vector=DenseVector([795.0, 37.0, 4.0, 51.7627, 112.1667, 9.0, 12.0, 0.0]))"
      ]
     },
     "execution_count": 36,
     "metadata": {},
     "output_type": "execute_result"
    }
   ],
   "source": [
    "df_final.head()"
   ]
  },
  {
   "cell_type": "markdown",
   "metadata": {},
   "source": [
    "### Standardizing all features"
   ]
  },
  {
   "cell_type": "markdown",
   "metadata": {},
   "source": [
    "In order to avoid one feature with larger scale dominant the whole model, we need to standardize the features"
   ]
  },
  {
   "cell_type": "code",
   "execution_count": 37,
   "metadata": {},
   "outputs": [],
   "source": [
    "scaler = StandardScaler(inputCol = 'features_vector', outputCol = \"standard_features\", withMean=True, withStd=True)\n",
    "feature_standardize = scaler.fit(df_final)\n",
    "df_final = feature_standardize.transform(df_final)"
   ]
  },
  {
   "cell_type": "code",
   "execution_count": 38,
   "metadata": {},
   "outputs": [
    {
     "data": {
      "text/plain": [
       "Row(userId='10', target=0, total_songs_listened=795, num_thumbs_up=37, num_thumbs_down=4, total_lifetime=51.76265046296297, avg_songs_played=112.16666666666667, add_to_playlist=9, total_friends=12, user_downgrade=0, features_vector=DenseVector([795.0, 37.0, 4.0, 51.7627, 112.1667, 9.0, 12.0, 0.0]), standard_features=DenseVector([-0.3128, -0.2362, -0.4773, -0.6194, 0.8239, -0.5875, -0.3283, -0.4807]))"
      ]
     },
     "execution_count": 38,
     "metadata": {},
     "output_type": "execute_result"
    }
   ],
   "source": [
    "df_final.head()"
   ]
  },
  {
   "cell_type": "code",
   "execution_count": 39,
   "metadata": {},
   "outputs": [
    {
     "name": "stdout",
     "output_type": "stream",
     "text": [
      "+-----+--------------------+\n",
      "|label|            features|\n",
      "+-----+--------------------+\n",
      "|    0|[-0.3128242518367...|\n",
      "|    0|[1.46185179223729...|\n",
      "|    1|[-0.7588775940430...|\n",
      "|    0|[-0.8924001405587...|\n",
      "|    1|[-0.8388443938794...|\n",
      "+-----+--------------------+\n",
      "only showing top 5 rows\n",
      "\n"
     ]
    }
   ],
   "source": [
    "data = df_final.select(df_final.target.alias(\"label\"), df_final.standard_features.alias(\"features\"))\n",
    "data.show(5)"
   ]
  },
  {
   "cell_type": "code",
   "execution_count": 40,
   "metadata": {},
   "outputs": [],
   "source": [
    "train, test = data.randomSplit([0.6, 0.4], seed=42)"
   ]
  },
  {
   "cell_type": "code",
   "execution_count": 41,
   "metadata": {},
   "outputs": [
    {
     "name": "stdout",
     "output_type": "stream",
     "text": [
      "+-----+-----+\n",
      "|label|count|\n",
      "+-----+-----+\n",
      "|    1|   17|\n",
      "|    0|   94|\n",
      "+-----+-----+\n",
      "\n"
     ]
    }
   ],
   "source": [
    "train.groupby(\"label\").count().show()"
   ]
  },
  {
   "cell_type": "code",
   "execution_count": 42,
   "metadata": {},
   "outputs": [
    {
     "name": "stdout",
     "output_type": "stream",
     "text": [
      "+-----+-----+\n",
      "|label|count|\n",
      "+-----+-----+\n",
      "|    1|   14|\n",
      "|    0|   50|\n",
      "+-----+-----+\n",
      "\n"
     ]
    }
   ],
   "source": [
    "test.groupby(\"label\").count().show()"
   ]
  },
  {
   "cell_type": "markdown",
   "metadata": {},
   "source": [
    "### Baseline Model\n",
    "\n",
    "Set an baseline model, with all users labelled as churn = 0, and calculated the model accuracy and f1 score. We shall expect the high score because the churned users are a fairly small subset."
   ]
  },
  {
   "cell_type": "code",
   "execution_count": 43,
   "metadata": {},
   "outputs": [],
   "source": [
    "def evaluate_performance(model_result, model_name, start, end):\n",
    "    evaluator = MulticlassClassificationEvaluator(predictionCol=\"prediction\")\n",
    "    print('{} performance metrics:'.format(model_name))\n",
    "    print('Accuracy: {}'.format(evaluator.evaluate(model_result, {evaluator.metricName: \"accuracy\"})))\n",
    "    print('F-1 Score:{}'.format(evaluator.evaluate(model_result, {evaluator.metricName: \"f1\"})))\n",
    "    print('Total training time: {} seconds'.format(end - start))"
   ]
  },
  {
   "cell_type": "code",
   "execution_count": 44,
   "metadata": {},
   "outputs": [],
   "source": [
    "baseline = test.withColumn('prediction', lit(0.0))"
   ]
  },
  {
   "cell_type": "code",
   "execution_count": 45,
   "metadata": {},
   "outputs": [
    {
     "name": "stdout",
     "output_type": "stream",
     "text": [
      "Baseline model metrics:\n",
      "Accuracy: 0.78125\n",
      "F-1 Score:0.6853070175438596\n"
     ]
    }
   ],
   "source": [
    "evaluator = MulticlassClassificationEvaluator(predictionCol=\"prediction\")\n",
    "print('Baseline model metrics:')\n",
    "print('Accuracy: {}'.format(evaluator.evaluate(baseline, {evaluator.metricName: \"accuracy\"})))\n",
    "print('F-1 Score:{}'.format(evaluator.evaluate(baseline, {evaluator.metricName: \"f1\"})))"
   ]
  },
  {
   "cell_type": "markdown",
   "metadata": {},
   "source": [
    "### Random Forest"
   ]
  },
  {
   "cell_type": "code",
   "execution_count": 46,
   "metadata": {},
   "outputs": [],
   "source": [
    "rf = RandomForestClassifier(seed = 42)\n",
    "\n",
    "f1_evaluation = MulticlassClassificationEvaluator(metricName = 'f1')\n",
    "\n",
    "param_grid = ParamGridBuilder() \\\n",
    "    .addGrid(rf.numTrees, [10, 20]) \\\n",
    "    .addGrid(rf.maxDepth, [10, 20]) \\\n",
    "    .build()\n",
    "\n",
    "rf_cv = CrossValidator(estimator = rf, estimatorParamMaps = param_grid, evaluator = f1_evaluation, numFolds = 2)"
   ]
  },
  {
   "cell_type": "code",
   "execution_count": 47,
   "metadata": {},
   "outputs": [
    {
     "data": {
      "text/plain": [
       "[0.760262618737195, 0.760262618737195, 0.7682556766869786, 0.7682556766869786]"
      ]
     },
     "execution_count": 47,
     "metadata": {},
     "output_type": "execute_result"
    }
   ],
   "source": [
    "start = time()\n",
    "rf_cv_model = rf_cv.fit(train)\n",
    "end = time()\n",
    "rf_cv_model.avgMetrics"
   ]
  },
  {
   "cell_type": "code",
   "execution_count": 48,
   "metadata": {},
   "outputs": [],
   "source": [
    "results_rf = rf_cv_model.transform(test)"
   ]
  },
  {
   "cell_type": "code",
   "execution_count": 49,
   "metadata": {},
   "outputs": [
    {
     "name": "stdout",
     "output_type": "stream",
     "text": [
      "Random Forest performance metrics:\n",
      "Accuracy: 0.78125\n",
      "F-1 Score:0.7456018518518519\n",
      "Total training time: 533.6691846847534 seconds\n"
     ]
    }
   ],
   "source": [
    "evaluate_performance(results_rf, \"Random Forest\", start, end)"
   ]
  },
  {
   "cell_type": "markdown",
   "metadata": {},
   "source": [
    "### Gradient Boosted Trees"
   ]
  },
  {
   "cell_type": "code",
   "execution_count": 50,
   "metadata": {},
   "outputs": [],
   "source": [
    "gbt = GBTClassifier(seed = 42)\n",
    "\n",
    "f1_evaluator = MulticlassClassificationEvaluator(metricName='f1')\n",
    "\n",
    "param_grid = ParamGridBuilder() \\\n",
    "    .addGrid(gbt.maxIter, [10, 20]) \\\n",
    "    .addGrid(gbt.maxDepth, [10, 20]) \\\n",
    "    .build()\n",
    "\n",
    "gbt_cv = CrossValidator(estimator = gbt, estimatorParamMaps = param_grid, evaluator = f1_evaluator, numFolds = 2)"
   ]
  },
  {
   "cell_type": "code",
   "execution_count": 51,
   "metadata": {},
   "outputs": [
    {
     "data": {
      "text/plain": [
       "[0.7345120411959689,\n",
       " 0.7345120411959689,\n",
       " 0.7345120411959689,\n",
       " 0.7345120411959689]"
      ]
     },
     "execution_count": 51,
     "metadata": {},
     "output_type": "execute_result"
    }
   ],
   "source": [
    "start = time()\n",
    "gbt_cv_model = gbt_cv.fit(train)\n",
    "end = time()\n",
    "gbt_cv_model.avgMetrics"
   ]
  },
  {
   "cell_type": "code",
   "execution_count": 52,
   "metadata": {},
   "outputs": [],
   "source": [
    "results_gbt = gbt_cv_model.transform(test)"
   ]
  },
  {
   "cell_type": "code",
   "execution_count": 53,
   "metadata": {},
   "outputs": [
    {
     "name": "stdout",
     "output_type": "stream",
     "text": [
      "Gradient Boosted Trees performance metrics:\n",
      "Accuracy: 0.734375\n",
      "F-1 Score:0.7307709937660432\n",
      "Total training time: 1867.8603122234344 seconds\n"
     ]
    }
   ],
   "source": [
    "evaluate_performance(results_gbt, \"Gradient Boosted Trees\", start, end)"
   ]
  },
  {
   "cell_type": "markdown",
   "metadata": {},
   "source": [
    "### Support Vector Machine "
   ]
  },
  {
   "cell_type": "code",
   "execution_count": 54,
   "metadata": {},
   "outputs": [],
   "source": [
    "svm = LinearSVC()\n",
    "\n",
    "f1_evaluator = MulticlassClassificationEvaluator(metricName='f1')\n",
    "\n",
    "paramGrid = ParamGridBuilder() \\\n",
    "    .addGrid(svm.maxIter, [10, 20]) \\\n",
    "    .build()\n",
    "\n",
    "svm_cv = CrossValidator(estimator=svm, estimatorParamMaps=paramGrid, evaluator=f1_evaluator, numFolds = 2)"
   ]
  },
  {
   "cell_type": "code",
   "execution_count": 55,
   "metadata": {},
   "outputs": [
    {
     "data": {
      "text/plain": [
       "[0.7801888207061205, 0.7991685739755546]"
      ]
     },
     "execution_count": 55,
     "metadata": {},
     "output_type": "execute_result"
    }
   ],
   "source": [
    "start = time()\n",
    "svm_cv_model = svm_cv.fit(train)\n",
    "end = time()\n",
    "svm_cv_model.avgMetrics"
   ]
  },
  {
   "cell_type": "code",
   "execution_count": 56,
   "metadata": {},
   "outputs": [],
   "source": [
    "results_svm = svm_cv_model.transform(test)"
   ]
  },
  {
   "cell_type": "code",
   "execution_count": 57,
   "metadata": {},
   "outputs": [
    {
     "name": "stdout",
     "output_type": "stream",
     "text": [
      "Support Vector Machine performance metrics:\n",
      "Accuracy: 0.78125\n",
      "F-1 Score:0.6853070175438596\n",
      "Total training time: 775.3471856117249 seconds\n"
     ]
    }
   ],
   "source": [
    "evaluate_performance(results_svm, \"Support Vector Machine\", start, end)"
   ]
  },
  {
   "cell_type": "markdown",
   "metadata": {},
   "source": [
    "### Evaluate models"
   ]
  },
  {
   "cell_type": "markdown",
   "metadata": {},
   "source": [
    "Performance ranking:\n",
    "\n",
    "1. Random Forest has F1 score 0.746, Accuracy 0.781\n",
    "2. Gradient Boosted Trees has F1 score 0.731, Accuracy 0.734\n",
    "3. Support Vector Machine has F1 score of 0.685, Accuracy 0.781\n",
    "\n",
    "As we optimized based on F1, Random Forest is the best model."
   ]
  },
  {
   "cell_type": "markdown",
   "metadata": {},
   "source": [
    "#### Feature Importance of best model"
   ]
  },
  {
   "cell_type": "code",
   "execution_count": 58,
   "metadata": {},
   "outputs": [
    {
     "data": {
      "text/plain": [
       "Text(0,0.5,'Features')"
      ]
     },
     "execution_count": 58,
     "metadata": {},
     "output_type": "execute_result"
    },
    {
     "data": {
      "image/png": "[encoded data removed]",
      "text/plain": [
       "<matplotlib.figure.Figure at 0x7fc8ec0c7128>"
      ]
     },
     "metadata": {
      "needs_background": "light"
     },
     "output_type": "display_data"
    }
   ],
   "source": [
    "feat_imp_val = rf_cv_model.bestModel.featureImportances.values\n",
    "cols = [\"total_songs_listened\", \"num_thumbs_up\", \"num_thumbs_down\", \\\n",
    "        'total_lifetime','avg_songs_played', 'add_to_playlist', 'total_friends', 'user_downgrade']\n",
    "\n",
    "y_pos = np.arange(len(cols))\n",
    " \n",
    "plt.barh(y_pos, feat_imp_val, align='center')\n",
    "plt.yticks(y_pos, cols)\n",
    "plt.xlabel('Importance Score')\n",
    "plt.ylabel('Features')"
   ]
  },
  {
   "cell_type": "markdown",
   "metadata": {},
   "source": [
    "# Conclusion"
   ]
  },
  {
   "cell_type": "markdown",
   "metadata": {},
   "source": [
    "### Summary"
   ]
  },
  {
   "cell_type": "markdown",
   "metadata": {},
   "source": [
    "In this project, I implemented a model to predict customer churn for Sparkify music streaming services. I explore the data set to get some ideas of what features might matter, and create or transform features for modeling process. Here I evaluate 3 models: Random Forest (RF), Gradient Boosted Trees (GBT), and Support Vector Machine (SVM). The tuned RF model is able to achieve about F1 score 0.746, which still outperforms the baseline model - predicting everyone not churn, with F1 score of 0.685, though its performance is actually inflated due to the imbalance of data set. Based on F1 score, the final model has 9% improvement compared to the baseline model."
   ]
  },
  {
   "cell_type": "markdown",
   "metadata": {},
   "source": [
    "### Reflection"
   ]
  },
  {
   "cell_type": "markdown",
   "metadata": {},
   "source": [
    "This project gives me the exposure to build machine learing models on Apache Spark which I don't have much experience before. I believe it's a great learning to practice on PySpark and learning  big data ecosystem to process data in a scalable way.\n",
    "\n",
    "Furthermore, customer churn is a common and critical issues for services company to become profitable. I follow the CRISP methodology in this project, understand business problem, explore data, and eventually come up with some idea of features for modeling. It's a great journey to go through all of the steps in a data science project."
   ]
  },
  {
   "cell_type": "markdown",
   "metadata": {},
   "source": [
    "### Improvement"
   ]
  },
  {
   "cell_type": "markdown",
   "metadata": {},
   "source": [
    "The model performance could be better and more reliable with larger data size since there are only 175 unique users in the mini data set.\n",
    "\n",
    "The features can also be improved if considering more factors or adding more domain knowledge. It evolves as the company grows its user base and excavates more insights from data."
   ]
  },
  {
   "cell_type": "code",
   "execution_count": null,
   "metadata": {},
   "outputs": [],
   "source": []
  }
 ],
 "metadata": {
  "kernelspec": {
   "display_name": "Python 3",
   "language": "python",
   "name": "python3"
  },
  "language_info": {
   "codemirror_mode": {
    "name": "ipython",
    "version": 3
   },
   "file_extension": ".py",
   "mimetype": "text/x-python",
   "name": "python",
   "nbconvert_exporter": "python",
   "pygments_lexer": "ipython3",
   "version": "3.6.3"
  }
 },
 "nbformat": 4,
 "nbformat_minor": 2
}
